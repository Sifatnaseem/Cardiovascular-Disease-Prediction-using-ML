{
 "cells": [
  {
   "cell_type": "code",
   "execution_count": 1,
   "id": "44333c90",
   "metadata": {},
   "outputs": [],
   "source": [
    "import os\n",
    "from pathlib import Path\n",
    "import json\n",
    "import pandas as pd\n",
    "import numpy as np \n",
    "import platform\n",
    "import warnings\n",
    "warnings.simplefilter(action='ignore', category=FutureWarning)\n",
    "\n",
    "from sklearn import preprocessing\n",
    "from sklearn import datasets\n",
    "from sklearn.model_selection import StratifiedKFold\n",
    "from sklearn.model_selection import GridSearchCV\n",
    "from sklearn import metrics\n",
    "from statistics import mean, stdev\n",
    "from sklearn.metrics import accuracy_score, f1_score, confusion_matrix, roc_curve, auc, \\\n",
    "            classification_report, recall_score, precision_recall_curve\n",
    "\n",
    "\n",
    "from sklearn.naive_bayes import GaussianNB\n",
    "from sklearn.model_selection import train_test_split\n",
    "\n"
   ]
  },
  {
   "cell_type": "code",
   "execution_count": 2,
   "id": "96f169b0",
   "metadata": {},
   "outputs": [],
   "source": [
    "# I mporting the dataset\n",
    "cleaned_df = pd.read_csv('cleaned_dataset.csv', sep=',')\n",
    "data_y = cleaned_df['cardiovascular_disease'].values\n",
    "df = cleaned_df.drop(columns=['cardiovascular_disease'])\n",
    "data_x = cleaned_df.to_numpy()"
   ]
  },
  {
   "cell_type": "code",
   "execution_count": 4,
   "id": "62955997",
   "metadata": {},
   "outputs": [],
   "source": [
    "# Initializing the classifier\n",
    "gnb = GaussianNB()"
   ]
  },
  {
   "cell_type": "code",
   "execution_count": 6,
   "id": "9fea98d0",
   "metadata": {},
   "outputs": [],
   "source": [
    "# Implementing StratifiedKFold\n",
    "skf = StratifiedKFold(n_splits=10, shuffle=True, random_state=1)\n",
    "gnb_accu_stratified = []"
   ]
  },
  {
   "cell_type": "code",
   "execution_count": 7,
   "id": "1367b8dc",
   "metadata": {},
   "outputs": [],
   "source": [
    "# splitting features and labels into training and testing sets\n",
    "for train_index, test_index in skf.split(data_x, data_y):\n",
    "    x_train_fold, x_test_fold = data_x[train_index], data_x[test_index]\n",
    "    y_train_fold, y_test_fold = data_y[train_index], data_y[test_index]\n",
    "    gnb.fit(x_train_fold, y_train_fold)\n",
    "    gnb_accu_stratified.append(gnb.score(x_test_fold, y_test_fold))"
   ]
  },
  {
   "cell_type": "code",
   "execution_count": 15,
   "id": "3e791847",
   "metadata": {},
   "outputs": [
    {
     "name": "stdout",
     "output_type": "stream",
     "text": [
      "List of possible accuracy: [1.0, 1.0, 1.0, 1.0, 1.0, 1.0, 1.0, 1.0, 1.0, 1.0]\n",
      "Gaussian Naive Bayes model Accuracy(in %): 100.0\n",
      "Gaussian Naive Bayes model Precision(in %): 100.0\n",
      "Gaussian Naive Bayes model Recall(in %): 100.0\n",
      "Gaussian Naive Bayes model, Classification Report\n",
      "               precision    recall  f1-score   support\n",
      "\n",
      "           0       1.00      1.00      1.00      3076\n",
      "           1       1.00      1.00      1.00      2935\n",
      "\n",
      "    accuracy                           1.00      6011\n",
      "   macro avg       1.00      1.00      1.00      6011\n",
      "weighted avg       1.00      1.00      1.00      6011\n",
      "\n"
     ]
    }
   ],
   "source": [
    "# Making a prediction and determining the peformance metrics\n",
    "y_pred = gnb.predict(x_test_fold)\n",
    "\n",
    "print('List of possible accuracies:', gnb_accu_stratified)\n",
    "print(\"Gaussian Naive Bayes model Accuracy(in %):\", metrics.accuracy_score(y_test_fold, y_pred)*100) \n",
    "print(\"Gaussian Naive Bayes model Precision(in %):\", metrics.precision_score(y_test_fold, y_pred)*100)\n",
    "print(\"Gaussian Naive Bayes model Recall(in %):\", metrics.recall_score(y_test_fold,y_pred,average='macro')*100)\n",
    "print(\"Gaussian Naive Bayes model, Classification Report\\n\",classification_report(y_test_fold,y_pred))"
   ]
  }
 ],
 "metadata": {
  "kernelspec": {
   "display_name": "Python 3 (ipykernel)",
   "language": "python",
   "name": "python3"
  },
  "language_info": {
   "codemirror_mode": {
    "name": "ipython",
    "version": 3
   },
   "file_extension": ".py",
   "mimetype": "text/x-python",
   "name": "python",
   "nbconvert_exporter": "python",
   "pygments_lexer": "ipython3",
   "version": "3.9.13"
  }
 },
 "nbformat": 4,
 "nbformat_minor": 5
}
